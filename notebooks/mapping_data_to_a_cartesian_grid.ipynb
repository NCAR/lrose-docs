{
 "cells": [
  {
   "cell_type": "markdown",
   "metadata": {},
   "source": [
    "# Mapping Data to a Cartesian Grid"
   ]
  },
  {
   "cell_type": "code",
   "execution_count": 1,
   "metadata": {},
   "outputs": [],
   "source": [
    "# In this notebook, we will show how to map data in Antenna coordinates to\n",
    "# a Cartesian grid using Py-ART's map submodule."
   ]
  },
  {
   "cell_type": "code",
   "execution_count": 12,
   "metadata": {},
   "outputs": [],
   "source": [
    "# First import needed modules\n",
    "import matplotlib.pyplot as plt\n",
    "import numpy as np\n",
    "import pyart"
   ]
  },
  {
   "cell_type": "code",
   "execution_count": 14,
   "metadata": {},
   "outputs": [],
   "source": [
    "# Read the data that is in antenna coordinates.\n",
    "radar = pyart.io.read(\"/home/spol/git/pyart/doc/source/notebooks/test_radar.nc\")"
   ]
  },
  {
   "cell_type": "code",
   "execution_count": 15,
   "metadata": {},
   "outputs": [],
   "source": [
    "# Py-ART has the Grid object which has characteristics that are similar to that of the\n",
    "# Radar object, except that the data are stored in Cartesian coordinates instead of the\n",
    "# radar's coordinates. Much like the Radar object, the fields are accessible by simply\n",
    "# accessing grid.fields['field_name']['data'], and the object contains parameters such as the\n",
    "# radar's location and projection."
   ]
  },
  {
   "cell_type": "code",
   "execution_count": 16,
   "metadata": {},
   "outputs": [
    {
     "name": "stderr",
     "output_type": "stream",
     "text": [
      "/home/spol/anaconda3/lib/python3.9/site-packages/pyart/map/gates_to_grid.py:166: DeprecationWarning: Barnes weighting function is deprecated. Please use Barnes 2 to be consistent with Pauley and Wu 1990. Default will be switched to Barnes2 on June 1st.\n",
      "  warnings.warn(\"Barnes weighting function is deprecated.\"\n"
     ]
    }
   ],
   "source": [
    "# We can create a Grid object from a Radar object by using pyart.map.grid_from_radars()\n",
    "# Grid shape is the amount of points within a dimension. Grid limits is the dimension limits\n",
    "# in meters.\n",
    "grid = pyart.map.grid_from_radars(radar, grid_shape=(41, 201, 201), \n",
    "                                  grid_limits=((0.,20000,), (-100000., 100000.), (-100000, 100000.)))"
   ]
  },
  {
   "cell_type": "code",
   "execution_count": 18,
   "metadata": {},
   "outputs": [
    {
     "data": {
      "text/plain": [
       "array([-100000.,  -99000.,  -98000.,  -97000.,  -96000.,  -95000.,\n",
       "        -94000.,  -93000.,  -92000.,  -91000.,  -90000.,  -89000.,\n",
       "        -88000.,  -87000.,  -86000.,  -85000.,  -84000.,  -83000.,\n",
       "        -82000.,  -81000.,  -80000.,  -79000.,  -78000.,  -77000.,\n",
       "        -76000.,  -75000.,  -74000.,  -73000.,  -72000.,  -71000.,\n",
       "        -70000.,  -69000.,  -68000.,  -67000.,  -66000.,  -65000.,\n",
       "        -64000.,  -63000.,  -62000.,  -61000.,  -60000.,  -59000.,\n",
       "        -58000.,  -57000.,  -56000.,  -55000.,  -54000.,  -53000.,\n",
       "        -52000.,  -51000.,  -50000.,  -49000.,  -48000.,  -47000.,\n",
       "        -46000.,  -45000.,  -44000.,  -43000.,  -42000.,  -41000.,\n",
       "        -40000.,  -39000.,  -38000.,  -37000.,  -36000.,  -35000.,\n",
       "        -34000.,  -33000.,  -32000.,  -31000.,  -30000.,  -29000.,\n",
       "        -28000.,  -27000.,  -26000.,  -25000.,  -24000.,  -23000.,\n",
       "        -22000.,  -21000.,  -20000.,  -19000.,  -18000.,  -17000.,\n",
       "        -16000.,  -15000.,  -14000.,  -13000.,  -12000.,  -11000.,\n",
       "        -10000.,   -9000.,   -8000.,   -7000.,   -6000.,   -5000.,\n",
       "         -4000.,   -3000.,   -2000.,   -1000.,       0.,    1000.,\n",
       "          2000.,    3000.,    4000.,    5000.,    6000.,    7000.,\n",
       "          8000.,    9000.,   10000.,   11000.,   12000.,   13000.,\n",
       "         14000.,   15000.,   16000.,   17000.,   18000.,   19000.,\n",
       "         20000.,   21000.,   22000.,   23000.,   24000.,   25000.,\n",
       "         26000.,   27000.,   28000.,   29000.,   30000.,   31000.,\n",
       "         32000.,   33000.,   34000.,   35000.,   36000.,   37000.,\n",
       "         38000.,   39000.,   40000.,   41000.,   42000.,   43000.,\n",
       "         44000.,   45000.,   46000.,   47000.,   48000.,   49000.,\n",
       "         50000.,   51000.,   52000.,   53000.,   54000.,   55000.,\n",
       "         56000.,   57000.,   58000.,   59000.,   60000.,   61000.,\n",
       "         62000.,   63000.,   64000.,   65000.,   66000.,   67000.,\n",
       "         68000.,   69000.,   70000.,   71000.,   72000.,   73000.,\n",
       "         74000.,   75000.,   76000.,   77000.,   78000.,   79000.,\n",
       "         80000.,   81000.,   82000.,   83000.,   84000.,   85000.,\n",
       "         86000.,   87000.,   88000.,   89000.,   90000.,   91000.,\n",
       "         92000.,   93000.,   94000.,   95000.,   96000.,   97000.,\n",
       "         98000.,   99000.,  100000.])"
      ]
     },
     "execution_count": 18,
     "metadata": {},
     "output_type": "execute_result"
    }
   ],
   "source": [
    "# If with look at the coordinate data, we can see we have 201 points between\n",
    "# -100000 and 100000 meters.\n",
    "grid.x['data']"
   ]
  },
  {
   "cell_type": "code",
   "execution_count": 19,
   "metadata": {},
   "outputs": [
    {
     "ename": "KeyError",
     "evalue": "'reflectivity'",
     "output_type": "error",
     "traceback": [
      "\u001b[0;31m---------------------------------------------------------------------------\u001b[0m",
      "\u001b[0;31mKeyError\u001b[0m                                  Traceback (most recent call last)",
      "Input \u001b[0;32mIn [19]\u001b[0m, in \u001b[0;36m<cell line: 5>\u001b[0;34m()\u001b[0m\n\u001b[1;32m      3\u001b[0m fig \u001b[38;5;241m=\u001b[39m plt\u001b[38;5;241m.\u001b[39mfigure(figsize\u001b[38;5;241m=\u001b[39m[\u001b[38;5;241m8\u001b[39m, \u001b[38;5;241m8\u001b[39m])\n\u001b[1;32m      4\u001b[0m display \u001b[38;5;241m=\u001b[39m pyart\u001b[38;5;241m.\u001b[39mgraph\u001b[38;5;241m.\u001b[39mGridMapDisplay(grid)\n\u001b[0;32m----> 5\u001b[0m \u001b[43mdisplay\u001b[49m\u001b[38;5;241;43m.\u001b[39;49m\u001b[43mplot_grid\u001b[49m\u001b[43m(\u001b[49m\u001b[38;5;124;43m'\u001b[39;49m\u001b[38;5;124;43mreflectivity\u001b[39;49m\u001b[38;5;124;43m'\u001b[39;49m\u001b[43m,\u001b[49m\u001b[43m \u001b[49m\u001b[43mlevel\u001b[49m\u001b[38;5;241;43m=\u001b[39;49m\u001b[38;5;241;43m3\u001b[39;49m\u001b[43m,\u001b[49m\u001b[43m \u001b[49m\u001b[43mvmin\u001b[49m\u001b[38;5;241;43m=\u001b[39;49m\u001b[38;5;241;43m-\u001b[39;49m\u001b[38;5;241;43m20\u001b[39;49m\u001b[43m,\u001b[49m\u001b[43m \u001b[49m\u001b[43mvmax\u001b[49m\u001b[38;5;241;43m=\u001b[39;49m\u001b[38;5;241;43m60\u001b[39;49m\u001b[43m)\u001b[49m\n",
      "File \u001b[0;32m~/anaconda3/lib/python3.9/site-packages/pyart/graph/gridmapdisplay.py:171\u001b[0m, in \u001b[0;36mGridMapDisplay.plot_grid\u001b[0;34m(self, field, level, vmin, vmax, norm, cmap, mask_outside, title, title_flag, axislabels, axislabels_flag, colorbar_flag, colorbar_label, colorbar_orient, ax, fig, lat_lines, lon_lines, projection, embelish, ticks, ticklabs, imshow, **kwargs)\u001b[0m\n\u001b[1;32m    169\u001b[0m \u001b[38;5;66;03m# parse parameters\u001b[39;00m\n\u001b[1;32m    170\u001b[0m ax, fig \u001b[38;5;241m=\u001b[39m common\u001b[38;5;241m.\u001b[39mparse_ax_fig(ax, fig)\n\u001b[0;32m--> 171\u001b[0m vmin, vmax \u001b[38;5;241m=\u001b[39m \u001b[43mcommon\u001b[49m\u001b[38;5;241;43m.\u001b[39;49m\u001b[43mparse_vmin_vmax\u001b[49m\u001b[43m(\u001b[49m\u001b[38;5;28;43mself\u001b[39;49m\u001b[38;5;241;43m.\u001b[39;49m\u001b[43mgrid\u001b[49m\u001b[43m,\u001b[49m\u001b[43m \u001b[49m\u001b[43mfield\u001b[49m\u001b[43m,\u001b[49m\u001b[43m \u001b[49m\u001b[43mvmin\u001b[49m\u001b[43m,\u001b[49m\u001b[43m \u001b[49m\u001b[43mvmax\u001b[49m\u001b[43m)\u001b[49m\n\u001b[1;32m    172\u001b[0m cmap \u001b[38;5;241m=\u001b[39m common\u001b[38;5;241m.\u001b[39mparse_cmap(cmap, field)\n\u001b[1;32m    174\u001b[0m \u001b[38;5;28;01mif\u001b[39;00m lon_lines \u001b[38;5;129;01mis\u001b[39;00m \u001b[38;5;28;01mNone\u001b[39;00m:\n",
      "File \u001b[0;32m~/anaconda3/lib/python3.9/site-packages/pyart/graph/common.py:42\u001b[0m, in \u001b[0;36mparse_vmin_vmax\u001b[0;34m(container, field, vmin, vmax)\u001b[0m\n\u001b[1;32m     40\u001b[0m \u001b[38;5;28;01mdef\u001b[39;00m \u001b[38;5;21mparse_vmin_vmax\u001b[39m(container, field, vmin, vmax):\n\u001b[1;32m     41\u001b[0m     \u001b[38;5;124;03m\"\"\" Parse and return vmin and vmax parameters. \"\"\"\u001b[39;00m\n\u001b[0;32m---> 42\u001b[0m     field_dict \u001b[38;5;241m=\u001b[39m \u001b[43mcontainer\u001b[49m\u001b[38;5;241;43m.\u001b[39;49m\u001b[43mfields\u001b[49m\u001b[43m[\u001b[49m\u001b[43mfield\u001b[49m\u001b[43m]\u001b[49m\n\u001b[1;32m     43\u001b[0m     field_default_vmin, field_default_vmax \u001b[38;5;241m=\u001b[39m get_field_limits(field)\n\u001b[1;32m     44\u001b[0m     \u001b[38;5;28;01mif\u001b[39;00m vmin \u001b[38;5;129;01mis\u001b[39;00m \u001b[38;5;28;01mNone\u001b[39;00m:\n",
      "\u001b[0;31mKeyError\u001b[0m: 'reflectivity'"
     ]
    },
    {
     "data": {
      "image/png": "[encoded data removed]",
      "text/plain": [
       "<Figure size 576x576 with 1 Axes>"
      ]
     },
     "metadata": {
      "needs_background": "light"
     },
     "output_type": "display_data"
    }
   ],
   "source": [
    "# In Py-ART's graphing suite, there is a display class similar to RadarMapDisplay,\n",
    "# but for grids. To plot the grid:\n",
    "fig = plt.figure(figsize=[8, 8])\n",
    "display = pyart.graph.GridMapDisplay(grid)\n",
    "display.plot_grid('reflectivity', level=3, vmin=-20, vmax=60)"
   ]
  },
  {
   "cell_type": "code",
   "execution_count": null,
   "metadata": {},
   "outputs": [],
   "source": [
    "# We can even do both longitudnal and latitudnal slices. Change the lat parameter to view\n",
    "# different portions of the storm!\n",
    "display.plot_latitude_slice('reflectivity', lat=36.75, vmin=0, vmax=60)\n",
    "plt.xlim([-50, 50])"
   ]
  },
  {
   "cell_type": "code",
   "execution_count": null,
   "metadata": {},
   "outputs": [],
   "source": [
    "# As you can see, this Grid suffers from gaps in data as well as artificial \"feathers\" near the\n",
    "# top that are simply the result of projecting the data to Cartesian coordinates. We would like\n",
    "# to eliminate these as much as possible. Thankfully, Py-ART let's us, on top of specifying the grid\n",
    "# resolution, also place in a custom radius of influence which controls how many points surrounding\n",
    "# the gate are factored into the interpolation. We can also change the weighting function used to\n",
    "#'nearest neighbor', 'barnes' or 'cressman'. Let's try increasing the minimum radius of influence to 1.75 km\n",
    "# and use Cressman as the weighting function.\n",
    "grid_better = pyart.map.grid_from_radars(\n",
    "    radar, grid_shape=(41, 201, 201), \n",
    "    grid_limits=((0.,20000,), (-100000., 100000.), (-100000, 100000.)),\n",
    "    roi_func='dist_beam', min_radius=1750.0, weighting_function='cressman')"
   ]
  },
  {
   "cell_type": "code",
   "execution_count": 10,
   "metadata": {},
   "outputs": [
    {
     "ename": "NameError",
     "evalue": "name 'grid_better' is not defined",
     "output_type": "error",
     "traceback": [
      "\u001b[0;31m---------------------------------------------------------------------------\u001b[0m",
      "\u001b[0;31mNameError\u001b[0m                                 Traceback (most recent call last)",
      "Input \u001b[0;32mIn [10]\u001b[0m, in \u001b[0;36m<cell line: 3>\u001b[0;34m()\u001b[0m\n\u001b[1;32m      1\u001b[0m \u001b[38;5;66;03m# As you can see, most of the artifacts at higher altitudes have been smoothed out, but we\u001b[39;00m\n\u001b[1;32m      2\u001b[0m \u001b[38;5;66;03m# have lost some spatial resolution as a result.\u001b[39;00m\n\u001b[0;32m----> 3\u001b[0m display \u001b[38;5;241m=\u001b[39m pyart\u001b[38;5;241m.\u001b[39mgraph\u001b[38;5;241m.\u001b[39mGridMapDisplay(\u001b[43mgrid_better\u001b[49m)\n\u001b[1;32m      4\u001b[0m display\u001b[38;5;241m.\u001b[39mplot_latitude_slice(\u001b[38;5;124m'\u001b[39m\u001b[38;5;124mreflectivity\u001b[39m\u001b[38;5;124m'\u001b[39m, lat\u001b[38;5;241m=\u001b[39m\u001b[38;5;241m36.75\u001b[39m, vmin\u001b[38;5;241m=\u001b[39m\u001b[38;5;241m0\u001b[39m, vmax\u001b[38;5;241m=\u001b[39m\u001b[38;5;241m60\u001b[39m)\n\u001b[1;32m      5\u001b[0m plt\u001b[38;5;241m.\u001b[39mxlim([\u001b[38;5;241m-\u001b[39m\u001b[38;5;241m50\u001b[39m, \u001b[38;5;241m50\u001b[39m])\n",
      "\u001b[0;31mNameError\u001b[0m: name 'grid_better' is not defined"
     ]
    }
   ],
   "source": [
    "# As you can see, most of the artifacts at higher altitudes have been smoothed out, but we\n",
    "# have lost some spatial resolution as a result.\n",
    "display = pyart.graph.GridMapDisplay(grid_better)\n",
    "display.plot_latitude_slice('reflectivity', lat=36.75, vmin=0, vmax=60)\n",
    "plt.xlim([-50, 50])"
   ]
  },
  {
   "cell_type": "code",
   "execution_count": null,
   "metadata": {},
   "outputs": [],
   "source": []
  }
 ],
 "metadata": {
  "kernelspec": {
   "display_name": "Python 3 (ipykernel)",
   "language": "python",
   "name": "python3"
  },
  "language_info": {
   "codemirror_mode": {
    "name": "ipython",
    "version": 3
   },
   "file_extension": ".py",
   "mimetype": "text/x-python",
   "name": "python",
   "nbconvert_exporter": "python",
   "pygments_lexer": "ipython3",
   "version": "3.9.12"
  }
 },
 "nbformat": 4,
 "nbformat_minor": 4
}
