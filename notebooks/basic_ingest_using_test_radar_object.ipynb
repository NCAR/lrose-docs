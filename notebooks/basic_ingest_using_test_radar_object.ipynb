{
 "cells": [
  {
   "cell_type": "markdown",
   "metadata": {},
   "source": [
    "# Creating a basic ingest of a NetCDF file"
   ]
  },
  {
   "cell_type": "code",
   "execution_count": 1,
   "metadata": {},
   "outputs": [],
   "source": [
    "### Sometimes a file might be in the netCDF file format but not conform to cfradial standards and can't\n",
    "### be read with Py-ART. One way of working around this is to create a basic ingest, here is a hypothetically\n",
    "### example, this file can be read with Py-ART, but lets act like it doesn't! :)"
   ]
  },
  {
   "cell_type": "code",
   "execution_count": 1,
   "metadata": {},
   "outputs": [
    {
     "name": "stdout",
     "output_type": "stream",
     "text": [
      "\n",
      "## You are using the Python ARM Radar Toolkit (Py-ART), an open source\n",
      "## library for working with weather radar data. Py-ART is partly\n",
      "## supported by the U.S. Department of Energy as part of the Atmospheric\n",
      "## Radiation Measurement (ARM) Climate Research Facility, an Office of\n",
      "## Science user facility.\n",
      "##\n",
      "## If you use this software to prepare a publication, please cite:\n",
      "##\n",
      "##     JJ Helmus and SM Collis, JORS 2016, doi: 10.5334/jors.119\n",
      "\n"
     ]
    },
    {
     "name": "stderr",
     "output_type": "stream",
     "text": [
      "/home/spol/anaconda3/lib/python3.9/site-packages/xarray/core/pycompat.py:22: DeprecationWarning: distutils Version classes are deprecated. Use packaging.version instead.\n",
      "  duck_array_version = LooseVersion(duck_array_module.__version__)\n",
      "/home/spol/anaconda3/lib/python3.9/site-packages/xarray/core/pycompat.py:37: DeprecationWarning: distutils Version classes are deprecated. Use packaging.version instead.\n",
      "  duck_array_version = LooseVersion(\"0.0.0\")\n",
      "/home/spol/anaconda3/lib/python3.9/site-packages/xarray/core/pycompat.py:37: DeprecationWarning: distutils Version classes are deprecated. Use packaging.version instead.\n",
      "  duck_array_version = LooseVersion(\"0.0.0\")\n",
      "/home/spol/anaconda3/lib/python3.9/site-packages/setuptools/_distutils/version.py:351: DeprecationWarning: distutils Version classes are deprecated. Use packaging.version instead.\n",
      "  other = LooseVersion(other)\n",
      "/home/spol/anaconda3/lib/python3.9/site-packages/setuptools/_distutils/version.py:351: DeprecationWarning: distutils Version classes are deprecated. Use packaging.version instead.\n",
      "  other = LooseVersion(other)\n",
      "/home/spol/anaconda3/lib/python3.9/site-packages/xarray/core/npcompat.py:82: DeprecationWarning: distutils Version classes are deprecated. Use packaging.version instead.\n",
      "  if LooseVersion(np.__version__) >= \"1.20.0\":\n",
      "/home/spol/anaconda3/lib/python3.9/site-packages/setuptools/_distutils/version.py:351: DeprecationWarning: distutils Version classes are deprecated. Use packaging.version instead.\n",
      "  other = LooseVersion(other)\n",
      "/home/spol/anaconda3/lib/python3.9/site-packages/xarray/core/pdcompat.py:45: DeprecationWarning: distutils Version classes are deprecated. Use packaging.version instead.\n",
      "  if LooseVersion(pd.__version__) < \"0.25.0\":\n",
      "/home/spol/anaconda3/lib/python3.9/site-packages/setuptools/_distutils/version.py:351: DeprecationWarning: distutils Version classes are deprecated. Use packaging.version instead.\n",
      "  other = LooseVersion(other)\n"
     ]
    }
   ],
   "source": [
    "import netCDF4\n",
    "import pyart\n",
    "import numpy as np"
   ]
  },
  {
   "cell_type": "code",
   "execution_count": 3,
   "metadata": {},
   "outputs": [],
   "source": [
    "# We will read the nc data with netCDF4.Dataset"
   ]
  },
  {
   "cell_type": "code",
   "execution_count": 2,
   "metadata": {},
   "outputs": [],
   "source": [
    "data = netCDF4.Dataset(\"/home/spol/git/pyart/doc/source/notebooks/test_radar_0.nc\")"
   ]
  },
  {
   "cell_type": "code",
   "execution_count": 3,
   "metadata": {},
   "outputs": [],
   "source": [
    "# Lets get an idea of the shapes for rays and gates and the keys in this dataset."
   ]
  },
  {
   "cell_type": "code",
   "execution_count": 4,
   "metadata": {},
   "outputs": [
    {
     "data": {
      "text/plain": [
       "dict_keys(['volume_number', 'platform_type', 'primary_axis', 'status_xml', 'instrument_type', 'radar_antenna_gain_h', 'radar_antenna_gain_v', 'radar_beam_width_h', 'radar_beam_width_v', 'radar_rx_bandwidth', 'time_coverage_start', 'time_coverage_end', 'frequency', 'grid_mapping', 'latitude', 'longitude', 'altitude', 'altitude_agl', 'sweep_number', 'sweep_mode', 'polarization_mode', 'prt_mode', 'follow_mode', 'fixed_angle', 'target_scan_rate', 'sweep_start_ray_index', 'sweep_end_ray_index', 'rays_are_indexed', 'ray_angle_res', 'r_calib_time', 'r_calib_pulse_width', 'r_calib_xmit_power_h', 'r_calib_xmit_power_v', 'r_calib_two_way_waveguide_loss_h', 'r_calib_two_way_waveguide_loss_v', 'r_calib_two_way_radome_loss_h', 'r_calib_two_way_radome_loss_v', 'r_calib_receiver_mismatch_loss', 'r_calib_k_squared_water', 'r_calib_radar_constant_h', 'r_calib_radar_constant_v', 'r_calib_antenna_gain_h', 'r_calib_antenna_gain_v', 'r_calib_noise_hc', 'r_calib_noise_vc', 'r_calib_noise_hx', 'r_calib_noise_vx', 'r_calib_i0_dbm_hc', 'r_calib_i0_dbm_vc', 'r_calib_i0_dbm_hx', 'r_calib_i0_dbm_vx', 'r_calib_receiver_gain_hc', 'r_calib_receiver_gain_vc', 'r_calib_receiver_gain_hx', 'r_calib_receiver_gain_vx', 'r_calib_receiver_slope_hc', 'r_calib_receiver_slope_vc', 'r_calib_receiver_slope_hx', 'r_calib_receiver_slope_vx', 'r_calib_dynamic_range_db_hc', 'r_calib_dynamic_range_db_vc', 'r_calib_dynamic_range_db_hx', 'r_calib_dynamic_range_db_vx', 'r_calib_base_dbz_1km_hc', 'r_calib_base_dbz_1km_vc', 'r_calib_base_dbz_1km_hx', 'r_calib_base_dbz_1km_vx', 'r_calib_sun_power_hc', 'r_calib_sun_power_vc', 'r_calib_sun_power_hx', 'r_calib_sun_power_vx', 'r_calib_noise_source_power_h', 'r_calib_noise_source_power_v', 'r_calib_power_measure_loss_h', 'r_calib_power_measure_loss_v', 'r_calib_coupler_forward_loss_h', 'r_calib_coupler_forward_loss_v', 'r_calib_dbz_correction', 'r_calib_zdr_correction', 'r_calib_ldr_correction_h', 'r_calib_ldr_correction_v', 'r_calib_system_phidp', 'r_calib_test_power_h', 'r_calib_test_power_v', 'time', 'range', 'ray_start_range', 'ray_gate_spacing', 'azimuth', 'elevation', 'pulse_width', 'prt', 'prt_ratio', 'nyquist_velocity', 'unambiguous_range', 'antenna_transition', 'n_samples', 'r_calib_index', 'measured_transmit_power_h', 'measured_transmit_power_v', 'scan_rate', 'DBZ', 'DBZ_F', 'VEL', 'VEL_F', 'VEL_HV', 'VEL_HV_F', 'VEL_ALT', 'VEL_ALT_F', 'WIDTH', 'WIDTH_F', 'CLUT', 'ZDR', 'ZDR_F', 'ZDRM', 'ZDRM_F', 'ZDR_BIAS', 'ZDR_BIAS_F', 'LDRH', 'LDRH_F', 'LDRV', 'LDRV_F', 'LDR_DIFF_F', 'LDR_MEAN_F', 'RHOHV', 'RHOHV_F', 'RHOHV_NNC', 'RHOHV_NNC_F', 'RHO_HC_VX', 'RHO_VC_HX', 'RHO_VX_HX', 'PHIDP0', 'PHIDP0_F', 'PHIDP', 'PHIDP_F', 'KDP', 'KDP_F', 'SNRHC', 'SNRHC_F', 'SNRHX', 'SNRHX_F', 'SNRVC', 'SNRVC_F', 'SNRVX', 'SNRVX_F', 'DBMHC', 'DBMHC_F', 'DBMHX', 'DBMHX_F', 'DBMVC', 'DBMVC_F', 'DBMVX', 'DBMVX_F', 'NOISE_BIAS', 'NCP', 'NCP_F', 'CPA', 'TDBZ', 'SPIN', 'ZDR_SDEV', 'PHIDP_SDEV', 'CMD', 'CMD_FLAG', 'AIQ', 'NIQ', 'SDEV_VV'])"
      ]
     },
     "execution_count": 4,
     "metadata": {},
     "output_type": "execute_result"
    }
   ],
   "source": [
    "data.variables.keys()"
   ]
  },
  {
   "cell_type": "code",
   "execution_count": 5,
   "metadata": {},
   "outputs": [
    {
     "data": {
      "text/plain": [
       "(480,)"
      ]
     },
     "execution_count": 5,
     "metadata": {},
     "output_type": "execute_result"
    }
   ],
   "source": [
    "data['azimuth'][:].shape"
   ]
  },
  {
   "cell_type": "code",
   "execution_count": 6,
   "metadata": {},
   "outputs": [
    {
     "data": {
      "text/plain": [
       "(1593,)"
      ]
     },
     "execution_count": 6,
     "metadata": {},
     "output_type": "execute_result"
    }
   ],
   "source": [
    "data['range'][:].shape"
   ]
  },
  {
   "cell_type": "code",
   "execution_count": 7,
   "metadata": {},
   "outputs": [],
   "source": [
    "# Make a empty radar with the dimensions of the dataset."
   ]
  },
  {
   "cell_type": "code",
   "execution_count": 8,
   "metadata": {},
   "outputs": [],
   "source": [
    "radar = pyart.testing.make_empty_ppi_radar(667, 400, 1)"
   ]
  },
  {
   "cell_type": "code",
   "execution_count": 9,
   "metadata": {},
   "outputs": [],
   "source": [
    "# Start filling the radar attributes with variables in the dataset."
   ]
  },
  {
   "cell_type": "code",
   "execution_count": 10,
   "metadata": {},
   "outputs": [],
   "source": [
    "radar.time['data'] = np.array(data['time'][:])"
   ]
  },
  {
   "cell_type": "code",
   "execution_count": 11,
   "metadata": {},
   "outputs": [
    {
     "data": {
      "text/plain": [
       "masked_array(data=120.90746307,\n",
       "             mask=False,\n",
       "       fill_value=1e+20)"
      ]
     },
     "execution_count": 11,
     "metadata": {},
     "output_type": "execute_result"
    }
   ],
   "source": [
    "data['longitude'][:]"
   ]
  },
  {
   "cell_type": "code",
   "execution_count": 12,
   "metadata": {},
   "outputs": [],
   "source": [
    "radar.latitude['data'] = np.array([data['latitude'][:]])"
   ]
  },
  {
   "cell_type": "code",
   "execution_count": 13,
   "metadata": {},
   "outputs": [],
   "source": [
    "radar.longitude['data'] = np.array([data['longitude'][:]])"
   ]
  },
  {
   "cell_type": "code",
   "execution_count": 14,
   "metadata": {},
   "outputs": [
    {
     "data": {
      "text/plain": [
       "array([120.90746307])"
      ]
     },
     "execution_count": 14,
     "metadata": {},
     "output_type": "execute_result"
    }
   ],
   "source": [
    "radar.longitude['data']"
   ]
  },
  {
   "cell_type": "code",
   "execution_count": 15,
   "metadata": {},
   "outputs": [],
   "source": [
    "radar.range['data'] = np.array(data['range'][:])"
   ]
  },
  {
   "cell_type": "code",
   "execution_count": 16,
   "metadata": {},
   "outputs": [],
   "source": [
    "# Sometimes the dataset might just contain gate spacing, but if the gate spacing is uniform,\n",
    "# there is a way around it, we see a gate spacing of 60 above."
   ]
  },
  {
   "cell_type": "code",
   "execution_count": 17,
   "metadata": {},
   "outputs": [],
   "source": [
    "radar.range['data'] = np.linspace(0.0, 60.0*(667-1), 667)"
   ]
  },
  {
   "cell_type": "code",
   "execution_count": 18,
   "metadata": {},
   "outputs": [],
   "source": [
    "# As you can see below we obtained the same range data. This isn't needed\n",
    "# if the range data is present, but using gate spacing and ngates is another way around it../output/20220531/cfrad.20220531_084850.258_to_20220531_084924.470_SPOL_SUR.nc"
   ]
  },
  {
   "cell_type": "code",
   "execution_count": 19,
   "metadata": {
    "scrolled": true
   },
   "outputs": [
    {
     "data": {
      "text/plain": [
       "array([    0.,    60.,   120.,   180.,   240.,   300.,   360.,   420.,\n",
       "         480.,   540.,   600.,   660.,   720.,   780.,   840.,   900.,\n",
       "         960.,  1020.,  1080.,  1140.,  1200.,  1260.,  1320.,  1380.,\n",
       "        1440.,  1500.,  1560.,  1620.,  1680.,  1740.,  1800.,  1860.,\n",
       "        1920.,  1980.,  2040.,  2100.,  2160.,  2220.,  2280.,  2340.,\n",
       "        2400.,  2460.,  2520.,  2580.,  2640.,  2700.,  2760.,  2820.,\n",
       "        2880.,  2940.,  3000.,  3060.,  3120.,  3180.,  3240.,  3300.,\n",
       "        3360.,  3420.,  3480.,  3540.,  3600.,  3660.,  3720.,  3780.,\n",
       "        3840.,  3900.,  3960.,  4020.,  4080.,  4140.,  4200.,  4260.,\n",
       "        4320.,  4380.,  4440.,  4500.,  4560.,  4620.,  4680.,  4740.,\n",
       "        4800.,  4860.,  4920.,  4980.,  5040.,  5100.,  5160.,  5220.,\n",
       "        5280.,  5340.,  5400.,  5460.,  5520.,  5580.,  5640.,  5700.,\n",
       "        5760.,  5820.,  5880.,  5940.,  6000.,  6060.,  6120.,  6180.,\n",
       "        6240.,  6300.,  6360.,  6420.,  6480.,  6540.,  6600.,  6660.,\n",
       "        6720.,  6780.,  6840.,  6900.,  6960.,  7020.,  7080.,  7140.,\n",
       "        7200.,  7260.,  7320.,  7380.,  7440.,  7500.,  7560.,  7620.,\n",
       "        7680.,  7740.,  7800.,  7860.,  7920.,  7980.,  8040.,  8100.,\n",
       "        8160.,  8220.,  8280.,  8340.,  8400.,  8460.,  8520.,  8580.,\n",
       "        8640.,  8700.,  8760.,  8820.,  8880.,  8940.,  9000.,  9060.,\n",
       "        9120.,  9180.,  9240.,  9300.,  9360.,  9420.,  9480.,  9540.,\n",
       "        9600.,  9660.,  9720.,  9780.,  9840.,  9900.,  9960., 10020.,\n",
       "       10080., 10140., 10200., 10260., 10320., 10380., 10440., 10500.,\n",
       "       10560., 10620., 10680., 10740., 10800., 10860., 10920., 10980.,\n",
       "       11040., 11100., 11160., 11220., 11280., 11340., 11400., 11460.,\n",
       "       11520., 11580., 11640., 11700., 11760., 11820., 11880., 11940.,\n",
       "       12000., 12060., 12120., 12180., 12240., 12300., 12360., 12420.,\n",
       "       12480., 12540., 12600., 12660., 12720., 12780., 12840., 12900.,\n",
       "       12960., 13020., 13080., 13140., 13200., 13260., 13320., 13380.,\n",
       "       13440., 13500., 13560., 13620., 13680., 13740., 13800., 13860.,\n",
       "       13920., 13980., 14040., 14100., 14160., 14220., 14280., 14340.,\n",
       "       14400., 14460., 14520., 14580., 14640., 14700., 14760., 14820.,\n",
       "       14880., 14940., 15000., 15060., 15120., 15180., 15240., 15300.,\n",
       "       15360., 15420., 15480., 15540., 15600., 15660., 15720., 15780.,\n",
       "       15840., 15900., 15960., 16020., 16080., 16140., 16200., 16260.,\n",
       "       16320., 16380., 16440., 16500., 16560., 16620., 16680., 16740.,\n",
       "       16800., 16860., 16920., 16980., 17040., 17100., 17160., 17220.,\n",
       "       17280., 17340., 17400., 17460., 17520., 17580., 17640., 17700.,\n",
       "       17760., 17820., 17880., 17940., 18000., 18060., 18120., 18180.,\n",
       "       18240., 18300., 18360., 18420., 18480., 18540., 18600., 18660.,\n",
       "       18720., 18780., 18840., 18900., 18960., 19020., 19080., 19140.,\n",
       "       19200., 19260., 19320., 19380., 19440., 19500., 19560., 19620.,\n",
       "       19680., 19740., 19800., 19860., 19920., 19980., 20040., 20100.,\n",
       "       20160., 20220., 20280., 20340., 20400., 20460., 20520., 20580.,\n",
       "       20640., 20700., 20760., 20820., 20880., 20940., 21000., 21060.,\n",
       "       21120., 21180., 21240., 21300., 21360., 21420., 21480., 21540.,\n",
       "       21600., 21660., 21720., 21780., 21840., 21900., 21960., 22020.,\n",
       "       22080., 22140., 22200., 22260., 22320., 22380., 22440., 22500.,\n",
       "       22560., 22620., 22680., 22740., 22800., 22860., 22920., 22980.,\n",
       "       23040., 23100., 23160., 23220., 23280., 23340., 23400., 23460.,\n",
       "       23520., 23580., 23640., 23700., 23760., 23820., 23880., 23940.,\n",
       "       24000., 24060., 24120., 24180., 24240., 24300., 24360., 24420.,\n",
       "       24480., 24540., 24600., 24660., 24720., 24780., 24840., 24900.,\n",
       "       24960., 25020., 25080., 25140., 25200., 25260., 25320., 25380.,\n",
       "       25440., 25500., 25560., 25620., 25680., 25740., 25800., 25860.,\n",
       "       25920., 25980., 26040., 26100., 26160., 26220., 26280., 26340.,\n",
       "       26400., 26460., 26520., 26580., 26640., 26700., 26760., 26820.,\n",
       "       26880., 26940., 27000., 27060., 27120., 27180., 27240., 27300.,\n",
       "       27360., 27420., 27480., 27540., 27600., 27660., 27720., 27780.,\n",
       "       27840., 27900., 27960., 28020., 28080., 28140., 28200., 28260.,\n",
       "       28320., 28380., 28440., 28500., 28560., 28620., 28680., 28740.,\n",
       "       28800., 28860., 28920., 28980., 29040., 29100., 29160., 29220.,\n",
       "       29280., 29340., 29400., 29460., 29520., 29580., 29640., 29700.,\n",
       "       29760., 29820., 29880., 29940., 30000., 30060., 30120., 30180.,\n",
       "       30240., 30300., 30360., 30420., 30480., 30540., 30600., 30660.,\n",
       "       30720., 30780., 30840., 30900., 30960., 31020., 31080., 31140.,\n",
       "       31200., 31260., 31320., 31380., 31440., 31500., 31560., 31620.,\n",
       "       31680., 31740., 31800., 31860., 31920., 31980., 32040., 32100.,\n",
       "       32160., 32220., 32280., 32340., 32400., 32460., 32520., 32580.,\n",
       "       32640., 32700., 32760., 32820., 32880., 32940., 33000., 33060.,\n",
       "       33120., 33180., 33240., 33300., 33360., 33420., 33480., 33540.,\n",
       "       33600., 33660., 33720., 33780., 33840., 33900., 33960., 34020.,\n",
       "       34080., 34140., 34200., 34260., 34320., 34380., 34440., 34500.,\n",
       "       34560., 34620., 34680., 34740., 34800., 34860., 34920., 34980.,\n",
       "       35040., 35100., 35160., 35220., 35280., 35340., 35400., 35460.,\n",
       "       35520., 35580., 35640., 35700., 35760., 35820., 35880., 35940.,\n",
       "       36000., 36060., 36120., 36180., 36240., 36300., 36360., 36420.,\n",
       "       36480., 36540., 36600., 36660., 36720., 36780., 36840., 36900.,\n",
       "       36960., 37020., 37080., 37140., 37200., 37260., 37320., 37380.,\n",
       "       37440., 37500., 37560., 37620., 37680., 37740., 37800., 37860.,\n",
       "       37920., 37980., 38040., 38100., 38160., 38220., 38280., 38340.,\n",
       "       38400., 38460., 38520., 38580., 38640., 38700., 38760., 38820.,\n",
       "       38880., 38940., 39000., 39060., 39120., 39180., 39240., 39300.,\n",
       "       39360., 39420., 39480., 39540., 39600., 39660., 39720., 39780.,\n",
       "       39840., 39900., 39960.])"
      ]
     },
     "execution_count": 19,
     "metadata": {},
     "output_type": "execute_result"
    }
   ],
   "source": [
    "radar.range['data']"
   ]
  },
  {
   "cell_type": "code",
   "execution_count": 20,
   "metadata": {},
   "outputs": [],
   "source": [
    "radar.fixed_angle['data'] = np.array(data['fixed_angle'])"
   ]
  },
  {
   "cell_type": "code",
   "execution_count": 21,
   "metadata": {},
   "outputs": [],
   "source": [
    "radar.sweep_number['data'] = np.array(data['sweep_number'])"
   ]
  },
  {
   "cell_type": "code",
   "execution_count": 22,
   "metadata": {},
   "outputs": [],
   "source": [
    "radar.sweep_start_ray_index['data'] = np.array(data['sweep_start_ray_index'])"
   ]
  },
  {
   "cell_type": "code",
   "execution_count": 23,
   "metadata": {},
   "outputs": [],
   "source": [
    "radar.sweep_end_ray_index['data'] = np.array(data['sweep_end_ray_index'])"
   ]
  },
  {
   "cell_type": "code",
   "execution_count": 24,
   "metadata": {},
   "outputs": [],
   "source": [
    "radar.altitude['data'] = np.array(data['altitude'])"
   ]
  },
  {
   "cell_type": "code",
   "execution_count": 36,
   "metadata": {},
   "outputs": [],
   "source": [
    "radar.azimuth['data'] = np.array(data['azimuth'])"
   ]
  },
  {
   "cell_type": "code",
   "execution_count": 37,
   "metadata": {},
   "outputs": [],
   "source": [
    "radar.sweep_mode['data'] = np.array(data['sweep_mode'])"
   ]
  },
  {
   "cell_type": "code",
   "execution_count": 38,
   "metadata": {},
   "outputs": [
    {
     "data": {
      "text/plain": [
       "masked_array(data=[0.50413513],\n",
       "             mask=False,\n",
       "       fill_value=1e+20,\n",
       "            dtype=float32)"
      ]
     },
     "execution_count": 38,
     "metadata": {},
     "output_type": "execute_result"
    }
   ],
   "source": [
    "data['fixed_angle'][:]"
   ]
  },
  {
   "cell_type": "code",
   "execution_count": 39,
   "metadata": {},
   "outputs": [],
   "source": [
    "# If elevation doesn't exist, but fixed angle doesn't, you can do\n",
    "# fixed angle multiplied by nrays"
   ]
  },
  {
   "cell_type": "code",
   "execution_count": 40,
   "metadata": {},
   "outputs": [],
   "source": [
    "radar.elevation['data'] = np.array([data['fixed_angle'][:]]*len(data['azimuth'][:])).squeeze()"
   ]
  },
  {
   "cell_type": "code",
   "execution_count": 41,
   "metadata": {},
   "outputs": [],
   "source": [
    "# With elevation and azimuth in the radar object, lets recalculate\n",
    "# gate latitude, longitude and altitude,"
   ]
  },
  {
   "cell_type": "code",
   "execution_count": 42,
   "metadata": {},
   "outputs": [],
   "source": [
    "radar.init_gate_altitude()\n",
    "radar.init_gate_longitude_latitude()"
   ]
  },
  {
   "cell_type": "code",
   "execution_count": 43,
   "metadata": {},
   "outputs": [
    {
     "data": {
      "text/plain": [
       "array([[120.90746307, 120.9069299 , 120.90639672, ..., 120.5530001 ,\n",
       "        120.55246562, 120.55193113],\n",
       "       [120.90746307, 120.90693339, 120.9064037 , ..., 120.55530659,\n",
       "        120.55477557, 120.55424454],\n",
       "       [120.90746307, 120.90693697, 120.90641086, ..., 120.55767365,\n",
       "        120.55714618, 120.5566187 ],\n",
       "       ...,\n",
       "       [120.90746307, 120.90691999, 120.9063769 , ..., 120.54644809,\n",
       "        120.54590379, 120.54535948],\n",
       "       [120.90746307, 120.9069232 , 120.90638332, ..., 120.54857047,\n",
       "        120.54802934, 120.54748822],\n",
       "       [120.90746307, 120.9069265 , 120.90638993, ..., 120.55075457,\n",
       "        120.55021672, 120.54967887]])"
      ]
     },
     "execution_count": 43,
     "metadata": {},
     "output_type": "execute_result"
    }
   ],
   "source": [
    "radar.gate_longitude['data']"
   ]
  },
  {
   "cell_type": "code",
   "execution_count": 44,
   "metadata": {},
   "outputs": [],
   "source": [
    "# Let's work on the field data, we will just do reflectivity for now, but any of the\n",
    "# other fields can be done the same way and added as a key pair in the fields dict."
   ]
  },
  {
   "cell_type": "code",
   "execution_count": 45,
   "metadata": {},
   "outputs": [],
   "source": [
    "from pyart.config import get_metadata"
   ]
  },
  {
   "cell_type": "code",
   "execution_count": 46,
   "metadata": {},
   "outputs": [],
   "source": [
    "ref_dict = get_metadata('DBZ')"
   ]
  },
  {
   "cell_type": "code",
   "execution_count": 47,
   "metadata": {},
   "outputs": [],
   "source": [
    "ref_dict['data'] = np.array(data['DBZ'])"
   ]
  },
  {
   "cell_type": "code",
   "execution_count": 48,
   "metadata": {},
   "outputs": [
    {
     "data": {
      "text/plain": [
       "array([[ -1.3892136,   3.5708647,   5.9396906, ...,  13.02022  ,\n",
       "         16.219433 ,  14.870054 ],\n",
       "       [ -6.4790382,  10.619883 ,   7.539297 , ...,  15.079504 ,\n",
       "         14.010011 ,  11.739422 ],\n",
       "       [ -4.169525 ,  19.020134 ,  12.831158 , ...,  13.700469 ,\n",
       "         15.420556 ,  37.709393 ],\n",
       "       ...,\n",
       "       [ -6.201008 ,  21.249945 ,  12.91086  , ...,   0.6589508,\n",
       "          4.530999 ,   2.469861 ],\n",
       "       [ -7.969286 ,  14.149026 ,   9.700526 , ...,  14.210194 ,\n",
       "         15.770875 ,  37.709393 ],\n",
       "       [-11.129574 ,  -1.5412025,   4.1102448, ...,  17.670755 ,\n",
       "         19.220316 ,  15.179595 ]], dtype=float32)"
      ]
     },
     "execution_count": 48,
     "metadata": {},
     "output_type": "execute_result"
    }
   ],
   "source": [
    "ref_dict['data']"
   ]
  },
  {
   "cell_type": "code",
   "execution_count": 49,
   "metadata": {},
   "outputs": [],
   "source": [
    "radar.fields = {'DBZ': ref_dict}"
   ]
  },
  {
   "cell_type": "code",
   "execution_count": 50,
   "metadata": {},
   "outputs": [
    {
     "data": {
      "text/plain": [
       "<pyart.core.radar.Radar at 0x7f4935ec6c70>"
      ]
     },
     "execution_count": 50,
     "metadata": {},
     "output_type": "execute_result"
    }
   ],
   "source": [
    "radar"
   ]
  },
  {
   "cell_type": "code",
   "execution_count": 51,
   "metadata": {},
   "outputs": [],
   "source": [
    "# Now what does that data look like plotted with Py-ART, also confirm if it works."
   ]
  },
  {
   "cell_type": "code",
   "execution_count": 52,
   "metadata": {},
   "outputs": [],
   "source": [
    "import matplotlib.pyplot as plt"
   ]
  },
  {
   "cell_type": "code",
   "execution_count": 75,
   "metadata": {},
   "outputs": [
    {
     "name": "stderr",
     "output_type": "stream",
     "text": [
      "/home/spol/anaconda3/lib/python3.9/site-packages/cartopy/crs.py:2320: DeprecationWarning: `np.float` is a deprecated alias for the builtin `float`. To silence this warning, use `float` by itself. Doing this will not modify any behavior and is safe. If you specifically wanted the numpy scalar type, use `np.float64` here.\n",
      "Deprecated in NumPy 1.20; for more details and guidance: https://numpy.org/devdocs/release/1.20.0-notes.html#deprecations\n",
      "  a = np.float(self.globe.semimajor_axis or WGS84_SEMIMAJOR_AXIS)\n",
      "/home/spol/anaconda3/lib/python3.9/site-packages/cartopy/crs.py:2321: DeprecationWarning: `np.float` is a deprecated alias for the builtin `float`. To silence this warning, use `float` by itself. Doing this will not modify any behavior and is safe. If you specifically wanted the numpy scalar type, use `np.float64` here.\n",
      "Deprecated in NumPy 1.20; for more details and guidance: https://numpy.org/devdocs/release/1.20.0-notes.html#deprecations\n",
      "  b = np.float(self.globe.semiminor_axis or a)\n"
     ]
    }
   ],
   "source": [
    "display = pyart.graph.RadarMapDisplay(radar)"
   ]
  },
  {
   "cell_type": "code",
   "execution_count": 53,
   "metadata": {},
   "outputs": [
    {
     "ename": "AttributeError",
     "evalue": "'function' object has no attribute 'plot_ppi'",
     "output_type": "error",
     "traceback": [
      "\u001b[0;31m---------------------------------------------------------------------------\u001b[0m",
      "\u001b[0;31mAttributeError\u001b[0m                            Traceback (most recent call last)",
      "Input \u001b[0;32mIn [53]\u001b[0m, in \u001b[0;36m<cell line: 1>\u001b[0;34m()\u001b[0m\n\u001b[0;32m----> 1\u001b[0m \u001b[43mdisplay\u001b[49m\u001b[38;5;241;43m.\u001b[39;49m\u001b[43mplot_ppi\u001b[49m(\u001b[38;5;124m'\u001b[39m\u001b[38;5;124mDBZ\u001b[39m\u001b[38;5;124m'\u001b[39m)\n\u001b[1;32m      2\u001b[0m plt\u001b[38;5;241m.\u001b[39mshow()\n",
      "\u001b[0;31mAttributeError\u001b[0m: 'function' object has no attribute 'plot_ppi'"
     ]
    }
   ],
   "source": [
    "display.plot_ppi('DBZ')\n",
    "plt.show()"
   ]
  },
  {
   "cell_type": "code",
   "execution_count": null,
   "metadata": {},
   "outputs": [],
   "source": []
  }
 ],
 "metadata": {
  "kernelspec": {
   "display_name": "Python 3 (ipykernel)",
   "language": "python",
   "name": "python3"
  },
  "language_info": {
   "codemirror_mode": {
    "name": "ipython",
    "version": 3
   },
   "file_extension": ".py",
   "mimetype": "text/x-python",
   "name": "python",
   "nbconvert_exporter": "python",
   "pygments_lexer": "ipython3",
   "version": "3.9.12"
  }
 },
 "nbformat": 4,
 "nbformat_minor": 4
}
