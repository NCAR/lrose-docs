{
 "cells": [
  {
   "cell_type": "markdown",
   "metadata": {},
   "source": [
    "# The Py-ART Radar object and indexing"
   ]
  },
  {
   "cell_type": "code",
   "execution_count": 1,
   "metadata": {},
   "outputs": [],
   "source": [
    "# The Py-ART radar object has functions and attributes that allow for a more\n",
    "# in depth look of the data and the radar object."
   ]
  },
  {
   "cell_type": "code",
   "execution_count": 2,
   "metadata": {},
   "outputs": [
    {
     "name": "stdout",
     "output_type": "stream",
     "text": [
      "\n",
      "## You are using the Python ARM Radar Toolkit (Py-ART), an open source\n",
      "## library for working with weather radar data. Py-ART is partly\n",
      "## supported by the U.S. Department of Energy as part of the Atmospheric\n",
      "## Radiation Measurement (ARM) Climate Research Facility, an Office of\n",
      "## Science user facility.\n",
      "##\n",
      "## If you use this software to prepare a publication, please cite:\n",
      "##\n",
      "##     JJ Helmus and SM Collis, JORS 2016, doi: 10.5334/jors.119\n",
      "\n"
     ]
    },
    {
     "name": "stderr",
     "output_type": "stream",
     "text": [
      "/home/spol/anaconda3/lib/python3.9/site-packages/xarray/core/pycompat.py:22: DeprecationWarning: distutils Version classes are deprecated. Use packaging.version instead.\n",
      "  duck_array_version = LooseVersion(duck_array_module.__version__)\n",
      "/home/spol/anaconda3/lib/python3.9/site-packages/xarray/core/pycompat.py:37: DeprecationWarning: distutils Version classes are deprecated. Use packaging.version instead.\n",
      "  duck_array_version = LooseVersion(\"0.0.0\")\n",
      "/home/spol/anaconda3/lib/python3.9/site-packages/xarray/core/pycompat.py:37: DeprecationWarning: distutils Version classes are deprecated. Use packaging.version instead.\n",
      "  duck_array_version = LooseVersion(\"0.0.0\")\n",
      "/home/spol/anaconda3/lib/python3.9/site-packages/setuptools/_distutils/version.py:351: DeprecationWarning: distutils Version classes are deprecated. Use packaging.version instead.\n",
      "  other = LooseVersion(other)\n",
      "/home/spol/anaconda3/lib/python3.9/site-packages/setuptools/_distutils/version.py:351: DeprecationWarning: distutils Version classes are deprecated. Use packaging.version instead.\n",
      "  other = LooseVersion(other)\n",
      "/home/spol/anaconda3/lib/python3.9/site-packages/xarray/core/npcompat.py:82: DeprecationWarning: distutils Version classes are deprecated. Use packaging.version instead.\n",
      "  if LooseVersion(np.__version__) >= \"1.20.0\":\n",
      "/home/spol/anaconda3/lib/python3.9/site-packages/setuptools/_distutils/version.py:351: DeprecationWarning: distutils Version classes are deprecated. Use packaging.version instead.\n",
      "  other = LooseVersion(other)\n",
      "/home/spol/anaconda3/lib/python3.9/site-packages/xarray/core/pdcompat.py:45: DeprecationWarning: distutils Version classes are deprecated. Use packaging.version instead.\n",
      "  if LooseVersion(pd.__version__) < \"0.25.0\":\n",
      "/home/spol/anaconda3/lib/python3.9/site-packages/setuptools/_distutils/version.py:351: DeprecationWarning: distutils Version classes are deprecated. Use packaging.version instead.\n",
      "  other = LooseVersion(other)\n"
     ]
    }
   ],
   "source": [
    "# Import needed modules\n",
    "import numpy as np\n",
    "import pyart"
   ]
  },
  {
   "cell_type": "code",
   "execution_count": 4,
   "metadata": {},
   "outputs": [],
   "source": [
    "# Load the radar file\n",
    "radar = pyart.io.read(\"test_kftg.nc\")"
   ]
  },
  {
   "cell_type": "code",
   "execution_count": 4,
   "metadata": {},
   "outputs": [
    {
     "name": "stdout",
     "output_type": "stream",
     "text": [
      "altitude:\n",
      "\tdata: <ndarray of type: float64 and shape: (1,)>\n",
      "\tlong_name: Altitude\n",
      "\tstandard_name: Altitude\n",
      "\tunits: meters\n",
      "\tpositive: up\n",
      "altitude_agl: None\n",
      "antenna_transition: None\n",
      "azimuth:\n",
      "\tdata: <ndarray of type: float64 and shape: (7200,)>\n",
      "\tunits: degrees\n",
      "\tstandard_name: beam_azimuth_angle\n",
      "\tlong_name: azimuth_angle_from_true_north\n",
      "\taxis: radial_azimuth_coordinate\n",
      "\tcomment: Azimuth of antenna relative to true north\n",
      "elevation:\n",
      "\tdata: <ndarray of type: float32 and shape: (7200,)>\n",
      "\tunits: degrees\n",
      "\tstandard_name: beam_elevation_angle\n",
      "\tlong_name: elevation_angle_from_horizontal_plane\n",
      "\taxis: radial_elevation_coordinate\n",
      "\tcomment: Elevation of antenna relative to the horizontal plane\n",
      "fields:\n",
      "\tdifferential_reflectivity:\n",
      "\t\tdata: <ndarray of type: float32 and shape: (7200, 1832)>\n",
      "\t\tunits: dB\n",
      "\t\tstandard_name: log_differential_reflectivity_hv\n",
      "\t\tlong_name: log_differential_reflectivity_hv\n",
      "\t\tvalid_max: 7.9375\n",
      "\t\tvalid_min: -7.875\n",
      "\t\tcoordinates: elevation azimuth range\n",
      "\t\t_FillValue: -9999.0\n",
      "\tdifferential_phase:\n",
      "\t\tdata: <ndarray of type: float32 and shape: (7200, 1832)>\n",
      "\t\tunits: degrees\n",
      "\t\tstandard_name: differential_phase_hv\n",
      "\t\tlong_name: differential_phase_hv\n",
      "\t\tvalid_max: 360.0\n",
      "\t\tvalid_min: 0.0\n",
      "\t\tcoordinates: elevation azimuth range\n",
      "\t\t_FillValue: -9999.0\n",
      "\treflectivity:\n",
      "\t\tdata: <ndarray of type: float32 and shape: (7200, 1832)>\n",
      "\t\tunits: dBZ\n",
      "\t\tstandard_name: equivalent_reflectivity_factor\n",
      "\t\tlong_name: Reflectivity\n",
      "\t\tvalid_max: 94.5\n",
      "\t\tvalid_min: -32.0\n",
      "\t\tcoordinates: elevation azimuth range\n",
      "\t\t_FillValue: -9999.0\n",
      "\tcross_correlation_ratio:\n",
      "\t\tdata: <ndarray of type: float32 and shape: (7200, 1832)>\n",
      "\t\tunits: ratio\n",
      "\t\tstandard_name: cross_correlation_ratio_hv\n",
      "\t\tlong_name: Cross correlation_ratio (RHOHV)\n",
      "\t\tvalid_max: 1.0\n",
      "\t\tvalid_min: 0.0\n",
      "\t\tcoordinates: elevation azimuth range\n",
      "\t\t_FillValue: -9999.0\n",
      "\tspectrum_width:\n",
      "\t\tdata: <ndarray of type: float32 and shape: (7200, 1832)>\n",
      "\t\tunits: meters_per_second\n",
      "\t\tstandard_name: doppler_spectrum_width\n",
      "\t\tlong_name: Spectrum Width\n",
      "\t\tvalid_max: 63.0\n",
      "\t\tvalid_min: -63.5\n",
      "\t\tcoordinates: elevation azimuth range\n",
      "\t\t_FillValue: -9999.0\n",
      "\tvelocity:\n",
      "\t\tdata: <ndarray of type: float32 and shape: (7200, 1832)>\n",
      "\t\tunits: meters_per_second\n",
      "\t\tstandard_name: radial_velocity_of_scatterers_away_from_instrument\n",
      "\t\tlong_name: Mean doppler Velocity\n",
      "\t\tvalid_max: 95.0\n",
      "\t\tvalid_min: -95.0\n",
      "\t\tcoordinates: elevation azimuth range\n",
      "\t\t_FillValue: -9999.0\n",
      "fixed_angle:\n",
      "\tdata: <ndarray of type: float32 and shape: (16,)>\n",
      "\tlong_name: Target angle for sweep\n",
      "\tunits: degrees\n",
      "\tstandard_name: target_fixed_angle\n",
      "instrument_parameters:\n",
      "\tunambiguous_range:\n",
      "\t\tdata: <ndarray of type: float32 and shape: (7200,)>\n",
      "\t\tunits: meters\n",
      "\t\tcomments: Unambiguous range\n",
      "\t\tmeta_group: instrument_parameters\n",
      "\t\tlong_name: Unambiguous range\n",
      "\tnyquist_velocity:\n",
      "\t\tdata: <ndarray of type: float32 and shape: (7200,)>\n",
      "\t\tunits: meters_per_second\n",
      "\t\tcomments: Unambiguous velocity\n",
      "\t\tmeta_group: instrument_parameters\n",
      "\t\tlong_name: Nyquist velocity\n",
      "latitude:\n",
      "\tdata: <ndarray of type: float64 and shape: (1,)>\n",
      "\tlong_name: Latitude\n",
      "\tstandard_name: Latitude\n",
      "\tunits: degrees_north\n",
      "longitude:\n",
      "\tdata: <ndarray of type: float64 and shape: (1,)>\n",
      "\tlong_name: Longitude\n",
      "\tstandard_name: Longitude\n",
      "\tunits: degrees_east\n",
      "nsweeps: 16\n",
      "ngates: 1832\n",
      "nrays: 7200\n",
      "radar_calibration: None\n",
      "range:\n",
      "\tdata: <ndarray of type: float32 and shape: (1832,)>\n",
      "\tunits: meters\n",
      "\tstandard_name: projection_range_coordinate\n",
      "\tlong_name: range_to_measurement_volume\n",
      "\taxis: radial_range_coordinate\n",
      "\tspacing_is_constant: true\n",
      "\tcomment: Coordinate variable for range. Range to center of each bin.\n",
      "\tmeters_to_center_of_first_gate: 2125.0\n",
      "\tmeters_between_gates: 250.0\n",
      "scan_rate: None\n",
      "scan_type: ppi\n",
      "sweep_end_ray_index:\n",
      "\tdata: <ndarray of type: int32 and shape: (16,)>\n",
      "\tlong_name: Index of last ray in sweep, 0-based\n",
      "\tunits: count\n",
      "sweep_mode:\n",
      "\tdata: <ndarray of type: |S20 and shape: (16,)>\n",
      "\tunits: unitless\n",
      "\tstandard_name: sweep_mode\n",
      "\tlong_name: Sweep mode\n",
      "\tcomment: Options are: \"sector\", \"coplane\", \"rhi\", \"vertical_pointing\", \"idle\", \"azimuth_surveillance\", \"elevation_surveillance\", \"sunscan\", \"pointing\", \"manual_ppi\", \"manual_rhi\"\n",
      "sweep_number:\n",
      "\tdata: <ndarray of type: int32 and shape: (16,)>\n",
      "\tunits: count\n",
      "\tstandard_name: sweep_number\n",
      "\tlong_name: Sweep number\n",
      "sweep_start_ray_index:\n",
      "\tdata: <ndarray of type: int32 and shape: (16,)>\n",
      "\tlong_name: Index of first ray in sweep, 0-based\n",
      "\tunits: count\n",
      "target_scan_rate: None\n",
      "time:\n",
      "\tdata: <ndarray of type: float64 and shape: (7200,)>\n",
      "\tunits: seconds since 2013-07-17T19:50:21Z\n",
      "\tstandard_name: time\n",
      "\tlong_name: time_in_seconds_since_volume_start\n",
      "\tcalendar: gregorian\n",
      "\tcomment: Coordinate variable for time. Time at the center of each ray, in fractional seconds since the global variable time_coverage_start\n",
      "metadata:\n",
      "\tConventions: CF/Radial instrument_parameters\n",
      "\tversion: 1.3\n",
      "\ttitle: \n",
      "\tinstitution: \n",
      "\treferences: \n",
      "\tsource: \n",
      "\thistory: \n",
      "\tcomment: \n",
      "\tinstrument_name: KATX\n",
      "\toriginal_container: NEXRAD Level II\n",
      "\tvcp_pattern: 11\n"
     ]
    }
   ],
   "source": [
    "# For a detailed print of the Py-ART radar object, use radar.info()\n",
    "radar.info()"
   ]
  },
  {
   "cell_type": "code",
   "execution_count": 5,
   "metadata": {},
   "outputs": [
    {
     "data": {
      "text/plain": [
       "{'units': 'degrees',\n",
       " 'standard_name': 'beam_elevation_angle',\n",
       " 'long_name': 'elevation_angle_from_horizontal_plane',\n",
       " 'axis': 'radial_elevation_coordinate',\n",
       " 'comment': 'Elevation of antenna relative to the horizontal plane',\n",
       " 'data': array([ 0.7470703,  0.7196045,  0.6893921, ..., 19.511719 , 19.511719 ,\n",
       "        19.511719 ], dtype=float32)}"
      ]
     },
     "execution_count": 5,
     "metadata": {},
     "output_type": "execute_result"
    }
   ],
   "source": [
    "# Let's view the elevation parameter. Py-ART stores all fields as 2D masked arrays\n",
    "# of dimensions (number of rays) x (number of gates). Therefore, as the elevation can change with\n",
    "# each ray, the data in the elevation array is a 1D array of dimension (number of rays)\n",
    "radar.elevation"
   ]
  },
  {
   "cell_type": "code",
   "execution_count": 5,
   "metadata": {},
   "outputs": [
    {
     "name": "stdout",
     "output_type": "stream",
     "text": [
      "[0.88165283 0.887146   0.9146118  0.9063721  0.9283447  0.9146118\n",
      " 0.9283447  0.9310913  0.92285156 0.9338379  0.920105   0.92559814\n",
      " 0.9310913  0.9310913  0.9310913  0.92285156 0.92285156 0.8981323\n",
      " 0.8898926  0.86242676 0.84869385 0.83496094 0.8294678  0.8129883\n",
      " 0.8294678  0.81573486 0.8432007  0.83496094 0.8569336  0.854187\n",
      " 0.86242676 0.8734131  0.8843994  0.887146   0.887146   0.8898926\n",
      " 0.8898926  0.8843994  0.8843994  0.87890625 0.87890625 0.87890625\n",
      " 0.87890625 0.87890625 0.87890625 0.87890625 0.87890625 0.87890625\n",
      " 0.87890625 0.87890625 0.87890625 0.87890625 0.87890625 0.87890625\n",
      " 0.87890625 0.87890625 0.87890625 0.87890625 0.87890625 0.87890625\n",
      " 0.87890625 0.87890625 0.87890625 0.87890625 0.87890625 0.87890625\n",
      " 0.87890625 0.87890625 0.87890625 0.87890625 0.87890625 0.87890625\n",
      " 0.87890625 0.87890625 0.87890625 0.87890625 0.87890625 0.87890625\n",
      " 0.87890625 0.87890625 0.87890625 0.87890625 0.87890625 0.87890625\n",
      " 0.87890625 0.87890625 0.87890625 0.87890625 0.87890625 0.87890625\n",
      " 0.87890625 0.87890625 0.87890625 0.87890625 0.87890625 0.87890625\n",
      " 0.87890625 0.87890625 0.87890625 0.87890625 0.87890625 0.87890625\n",
      " 0.87890625 0.87890625 0.87890625 0.87890625 0.87890625 0.87890625\n",
      " 0.87890625 0.87890625 0.87890625 0.87890625 0.87890625 0.87890625\n",
      " 0.87890625 0.87890625 0.87890625 0.87890625 0.87890625 0.87890625\n",
      " 0.87890625 0.87890625 0.87890625 0.87890625 0.87890625 0.87890625\n",
      " 0.87890625 0.87890625 0.87890625 0.87890625 0.87890625 0.87890625\n",
      " 0.87890625 0.87890625 0.87890625 0.87890625 0.87890625 0.87890625\n",
      " 0.87890625 0.87890625 0.87890625 0.87890625 0.87890625 0.87890625\n",
      " 0.87890625 0.87890625 0.87890625 0.87890625 0.87890625 0.87890625\n",
      " 0.87890625 0.87890625 0.87890625 0.87890625 0.87890625 0.87890625\n",
      " 0.87890625 0.87890625 0.87890625 0.87890625 0.87890625 0.87890625\n",
      " 0.87890625 0.87890625 0.87890625 0.87890625 0.87890625 0.87890625\n",
      " 0.87890625 0.87890625 0.87890625 0.87890625 0.87890625 0.87890625\n",
      " 0.87890625 0.87890625 0.87890625 0.87890625 0.87890625 0.87890625\n",
      " 0.87890625 0.87890625 0.87890625 0.87890625 0.87890625 0.87890625\n",
      " 0.87890625 0.87890625 0.87890625 0.87890625 0.87890625 0.87890625\n",
      " 0.87890625 0.87890625 0.87890625 0.87890625 0.87890625 0.87890625\n",
      " 0.87890625 0.87890625 0.87890625 0.87890625 0.87890625 0.87890625\n",
      " 0.87890625 0.87890625 0.87890625 0.87890625 0.87890625 0.87890625\n",
      " 0.87890625 0.87890625 0.87890625 0.87890625 0.87890625 0.87890625\n",
      " 0.87890625 0.87890625 0.87890625 0.87890625 0.87890625 0.87890625\n",
      " 0.87890625 0.87890625 0.87890625 0.87890625 0.87890625 0.87890625\n",
      " 0.87890625 0.87890625 0.87890625 0.87890625 0.87890625 0.87890625\n",
      " 0.87890625 0.87890625 0.87890625 0.87890625 0.87890625 0.87890625\n",
      " 0.87890625 0.87890625 0.87890625 0.87890625 0.87890625 0.87890625\n",
      " 0.87890625 0.87890625 0.87890625 0.87890625 0.87890625 0.87890625\n",
      " 0.87890625 0.87890625 0.87890625 0.87890625 0.87890625 0.87890625\n",
      " 0.87890625 0.87890625 0.87890625 0.87890625 0.87890625 0.87890625\n",
      " 0.87890625 0.87890625 0.87890625 0.87890625 0.87890625 0.87890625\n",
      " 0.87890625 0.87890625 0.87890625 0.87890625 0.87890625 0.87890625\n",
      " 0.87890625 0.87890625 0.87890625 0.87890625 0.87890625 0.87890625\n",
      " 0.87890625 0.87890625 0.87890625 0.87890625 0.87890625 0.87890625\n",
      " 0.87890625 0.87890625 0.87890625 0.87890625 0.87890625 0.87890625\n",
      " 0.87890625 0.87890625 0.87890625 0.87890625 0.87890625 0.87890625\n",
      " 0.87890625 0.87890625 0.87890625 0.87890625 0.87890625 0.87890625\n",
      " 0.87890625 0.87890625 0.87890625 0.87890625 0.87890625 0.87890625\n",
      " 0.87890625 0.87890625 0.87890625 0.87890625 0.87890625 0.87890625\n",
      " 0.87890625 0.87890625 0.87890625 0.87890625 0.87890625 0.87890625\n",
      " 0.87890625 0.87890625 0.87890625 0.87890625 0.87890625 0.87890625\n",
      " 0.87890625 0.87890625 0.87890625 0.87890625 0.87890625 0.87890625\n",
      " 0.87890625 0.87890625 0.87890625 0.87890625 0.87890625 0.87890625\n",
      " 0.87890625 0.87890625 0.87890625 0.87890625 0.87890625 0.87890625\n",
      " 0.87890625 0.87890625 0.87890625 0.87890625 0.87890625 0.87890625\n",
      " 0.87890625 0.87890625 0.87890625 0.87890625 0.87890625 0.87890625\n",
      " 0.87890625 0.87890625 0.87890625 0.87890625 0.87890625 0.87890625\n",
      " 0.87890625 0.87890625 0.87890625 0.87890625 0.87890625 0.87890625\n",
      " 0.87890625 0.87890625 0.87890625 0.87890625 0.87890625 0.87890625\n",
      " 0.87890625 0.87890625 0.87890625 0.87890625 0.87890625 0.87890625\n",
      " 0.87890625 0.87890625 0.87890625 0.87890625 0.87890625 0.87890625\n",
      " 0.87890625 0.87890625 0.87890625 0.87890625 0.87890625 0.87890625\n",
      " 0.87890625 0.87890625 0.87890625 0.87890625 0.87890625 0.87890625\n",
      " 0.87890625 0.87890625 0.87890625 0.87890625 0.87890625 0.87890625\n",
      " 0.87890625 0.87890625 0.87890625 0.87890625 0.87890625 0.87890625\n",
      " 0.87890625 0.87890625 0.87890625 0.87890625 0.87890625 0.87890625\n",
      " 0.87890625 0.87890625 0.87890625 0.87890625 0.87890625 0.87890625\n",
      " 0.87890625 0.87890625 0.87890625 0.87890625 0.87890625 0.87890625\n",
      " 0.87890625 0.87890625 0.87890625 0.87890625 0.87890625 0.87890625\n",
      " 0.87890625 0.87890625 0.87890625 0.87890625 0.87890625 0.87890625\n",
      " 0.87890625 0.87890625 0.87890625 0.87890625 0.87890625 0.87890625\n",
      " 0.87890625 0.87890625 0.87890625 0.87890625 0.87890625 0.87890625\n",
      " 0.87890625 0.87890625 0.87890625 0.87890625 0.87890625 0.87890625\n",
      " 0.87890625 0.87890625 0.87890625 0.87890625 0.87890625 0.87890625\n",
      " 0.87890625 0.87890625 0.87890625 0.87890625 0.87890625 0.87890625\n",
      " 0.87890625 0.87890625 0.87890625 0.87890625 0.87890625 0.87890625\n",
      " 0.87890625 0.87890625 0.87890625 0.87890625 0.87890625 0.87890625\n",
      " 0.87890625 0.87890625 0.87890625 0.87890625 0.87890625 0.87890625\n",
      " 0.87890625 0.87890625 0.87890625 0.87890625 0.87890625 0.87890625\n",
      " 0.87890625 0.87890625 0.87890625 0.87890625 0.87890625 0.87890625\n",
      " 0.87890625 0.87890625 0.87890625 0.87890625 0.87890625 0.87890625\n",
      " 0.87890625 0.87890625 0.87890625 0.87890625 0.87890625 0.87890625\n",
      " 0.87890625 0.87890625 0.87890625 0.87890625 0.87890625 0.87890625\n",
      " 0.87890625 0.87890625 0.87890625 0.87890625 0.87890625 0.87890625\n",
      " 0.87890625 0.87890625 0.87890625 0.87890625 0.87890625 0.87890625\n",
      " 0.87890625 0.87890625 0.87890625 0.87890625 0.87890625 0.87890625\n",
      " 0.87890625 0.87890625 0.87890625 0.87890625 0.87890625 0.87890625\n",
      " 0.87890625 0.87890625 0.87890625 0.87890625 0.87890625 0.87890625\n",
      " 0.87890625 0.87890625 0.87890625 0.87890625 0.87890625 0.87890625\n",
      " 0.87890625 0.87890625 0.87890625 0.87890625 0.87890625 0.87890625\n",
      " 0.87890625 0.87890625 0.87890625 0.87890625 0.87890625 0.87890625\n",
      " 0.87890625 0.87890625 0.87890625 0.87890625 0.87890625 0.87890625\n",
      " 0.87890625 0.87890625 0.87890625 0.87890625 0.87890625 0.87890625\n",
      " 0.87890625 0.87890625 0.87890625 0.87890625 0.87890625 0.87890625\n",
      " 0.87890625 0.87890625 0.87890625 0.87890625 0.87890625 0.87890625\n",
      " 0.87890625 0.87890625 0.87890625 0.87890625 0.87890625 0.87890625\n",
      " 0.87890625 0.87890625 0.87890625 0.87890625 0.87890625 0.87890625\n",
      " 0.87890625 0.87890625 0.87890625 0.87890625 0.87890625 0.87890625\n",
      " 0.87890625 0.87890625 0.87890625 0.87890625 0.87890625 0.87890625\n",
      " 0.87890625 0.87890625 0.87890625 0.87890625 0.87890625 0.87890625\n",
      " 0.87890625 0.87890625 0.87890625 0.87890625 0.87890625 0.87890625\n",
      " 0.87890625 0.87890625 0.87890625 0.87890625 0.87890625 0.87890625\n",
      " 0.87890625 0.87890625 0.87890625 0.87890625 0.87890625 0.87890625\n",
      " 0.87890625 0.87890625 0.87890625 0.87890625 0.87890625 0.87890625\n",
      " 0.87890625 0.87890625 0.87890625 0.87890625 0.87890625 0.87890625\n",
      " 0.87890625 0.87890625 0.87890625 0.87890625 0.87890625 0.87890625\n",
      " 0.87890625 0.87890625 0.87890625 0.87890625 0.87890625 0.87890625\n",
      " 0.87890625 0.87890625 0.87890625 0.87890625 0.87890625 0.87890625\n",
      " 0.87890625 0.87890625 0.87890625 0.87890625 0.87890625 0.87890625\n",
      " 0.87890625 0.87890625 0.87890625 0.87890625 0.87890625 0.87890625\n",
      " 0.87890625 0.87890625 0.87890625 0.87890625 0.87890625 0.87890625\n",
      " 0.87890625 0.87890625 0.87890625 0.87890625 0.87890625 0.87890625\n",
      " 0.87890625 0.87890625 0.87890625 0.87890625 0.87890625 0.87890625\n",
      " 0.87890625 0.87890625 0.87890625 0.87890625 0.87890625 0.87890625\n",
      " 0.87890625 0.87890625 0.87890625 0.87890625 0.87890625 0.87890625\n",
      " 0.87890625 0.87890625 0.87890625 0.87890625 0.87890625 0.87890625]\n"
     ]
    }
   ],
   "source": [
    "# If we just want the elevations of one sweep, we can use the get_slice() function\n",
    "# of the Radar object to just get the elevations from one slice.\n",
    "sweep_1 = radar.get_slice(1)\n",
    "print(radar.elevation['data'][sweep_1])"
   ]
  },
  {
   "cell_type": "code",
   "execution_count": 6,
   "metadata": {},
   "outputs": [
    {
     "data": {
      "text/plain": [
       "{'long_name': 'radar_reflectivity',\n",
       " 'standard_name': 'equivalent_reflectivity_factor',\n",
       " 'units': 'dBZ',\n",
       " 'sampling_ratio': 1.0,\n",
       " '_FillValue': -32768,\n",
       " 'grid_mapping': 'grid_mapping',\n",
       " 'coordinates': 'time range',\n",
       " 'data': masked_array(\n",
       "   data=[[-1.0009536743164062, -6.000701904296875, -5.000144958496094,\n",
       "          ..., --, --, --],\n",
       "         [-8.000297546386719, -9.999893188476562, -5.999183654785156, ...,\n",
       "          --, --, --],\n",
       "         [-0.000396728515625, -10.499412536621094, -2.49951171875, ...,\n",
       "          --, --, --],\n",
       "         ...,\n",
       "         [-0.49991607666015625, -14.5001220703125, -0.49991607666015625,\n",
       "          ..., --, --, --],\n",
       "         [-8.49981689453125, -6.500221252441406, -4.499107360839844, ...,\n",
       "          --, --, --],\n",
       "         [-15.499160766601562, -0.49991607666015625, -4.5006256103515625,\n",
       "          ..., --, --, --]],\n",
       "   mask=[[False, False, False, ...,  True,  True,  True],\n",
       "         [False, False, False, ...,  True,  True,  True],\n",
       "         [False, False, False, ...,  True,  True,  True],\n",
       "         ...,\n",
       "         [False, False, False, ...,  True,  True,  True],\n",
       "         [False, False, False, ...,  True,  True,  True],\n",
       "         [False, False, False, ...,  True,  True,  True]],\n",
       "   fill_value=1e+20,\n",
       "   dtype=float32)}"
      ]
     },
     "execution_count": 6,
     "metadata": {},
     "output_type": "execute_result"
    }
   ],
   "source": [
    "# All of the radar fields are stored in a dictionary called radar.fields. This dictionary\n",
    "# contains entries that correspond to the field names in the file.L\n",
    "radar.fields['DBZ']"
   ]
  },
  {
   "cell_type": "code",
   "execution_count": 7,
   "metadata": {},
   "outputs": [
    {
     "data": {
      "text/plain": [
       "masked_array(\n",
       "  data=[[-1.0009536743164062, -6.000701904296875, -5.000144958496094,\n",
       "         ..., --, --, --],\n",
       "        [-8.000297546386719, -9.999893188476562, -5.999183654785156, ...,\n",
       "         --, --, --],\n",
       "        [-0.000396728515625, -10.499412536621094, -2.49951171875, ...,\n",
       "         --, --, --],\n",
       "        ...,\n",
       "        [-0.49991607666015625, -14.5001220703125, -0.49991607666015625,\n",
       "         ..., --, --, --],\n",
       "        [-8.49981689453125, -6.500221252441406, -4.499107360839844, ...,\n",
       "         --, --, --],\n",
       "        [-15.499160766601562, -0.49991607666015625, -4.5006256103515625,\n",
       "         ..., --, --, --]],\n",
       "  mask=[[False, False, False, ...,  True,  True,  True],\n",
       "        [False, False, False, ...,  True,  True,  True],\n",
       "        [False, False, False, ...,  True,  True,  True],\n",
       "        ...,\n",
       "        [False, False, False, ...,  True,  True,  True],\n",
       "        [False, False, False, ...,  True,  True,  True],\n",
       "        [False, False, False, ...,  True,  True,  True]],\n",
       "  fill_value=1e+20,\n",
       "  dtype=float32)"
      ]
     },
     "execution_count": 7,
     "metadata": {},
     "output_type": "execute_result"
    }
   ],
   "source": [
    "# This shows entries such as the data itself, coordinates, long name, and units. You can\n",
    "# access the array with the reflectivity data itself using radar.fields['reflectivity']['data'].\n",
    "# This is stored as a 2D masked array with dimensions (number of rays) x (number of gates)\n",
    "radar.fields['DBZ']['data']"
   ]
  },
  {
   "cell_type": "code",
   "execution_count": 8,
   "metadata": {},
   "outputs": [
    {
     "name": "stdout",
     "output_type": "stream",
     "text": [
      "[[-1.0009536743164062 -6.000701904296875 -5.000144958496094 ... -- -- --]\n",
      " [-8.000297546386719 -9.999893188476562 -5.999183654785156 ... -- -- --]\n",
      " [-0.000396728515625 -10.499412536621094 -2.49951171875 ... -- -- --]\n",
      " ...\n",
      " [-9.500373840332031 -8.999336242675781 -9.500373840332031 ... -- -- --]\n",
      " [-6.000701904296875 -0.49991607666015625 -11.499969482421875 ... -- --\n",
      "  --]\n",
      " [-13.499565124511719 -9.0008544921875 -8.000297546386719 ... -- -- --]]\n"
     ]
    }
   ],
   "source": [
    "# If you just want the data from one slice, you can get the indicies for the\n",
    "# slice using radar.get_slice()\n",
    "slice_indices = radar.get_slice(0)\n",
    "print(radar.fields['DBZ']['data'][slice_indices])"
   ]
  },
  {
   "cell_type": "code",
   "execution_count": 9,
   "metadata": {},
   "outputs": [
    {
     "name": "stdout",
     "output_type": "stream",
     "text": [
      "[12.290407461114896, 11.427484998387769, 10.213448909451042, 12.298831423344934, 11.444966779855491, 11.300650328877573, 10.770859840621442, 10.47731558345886, 10.312513500635324, 12.305674743238638, 10.301962198269319, 7.0507761896958066, 5.134038611887068, 3.767833100237966, 2.571844236929178, 2.4151328162141]\n"
     ]
    }
   ],
   "source": [
    "# You can also iterate over each slice by using radar.iter_slice() This example\n",
    "# returns the mean reflectivity of each sweep.\n",
    "reflectivity = [radar.fields['DBZ']['data'][x].mean() for x in radar.iter_slice()]\n",
    "print(reflectivity)"
   ]
  },
  {
   "cell_type": "code",
   "execution_count": 10,
   "metadata": {},
   "outputs": [
    {
     "data": {
      "text/plain": [
       "masked_array(data=[30.65, 30.65, 30.65, ..., 33.27, 33.27, 33.27],\n",
       "             mask=False,\n",
       "       fill_value=1e+20,\n",
       "            dtype=float32)"
      ]
     },
     "execution_count": 10,
     "metadata": {},
     "output_type": "execute_result"
    }
   ],
   "source": [
    "# You can also view the important radar instrument parameters. One commonly used parameter\n",
    "# is the nyquist velocity, which is the maximum magnitude of the velocity the radar is\n",
    "# capable of recording before a phenomena known as aliasing occurs.\n",
    "radar.instrument_parameters['nyquist_velocity']['data']"
   ]
  },
  {
   "cell_type": "code",
   "execution_count": null,
   "metadata": {},
   "outputs": [],
   "source": []
  }
 ],
 "metadata": {
  "kernelspec": {
   "display_name": "Python 3 (ipykernel)",
   "language": "python",
   "name": "python3"
  },
  "language_info": {
   "codemirror_mode": {
    "name": "ipython",
    "version": 3
   },
   "file_extension": ".py",
   "mimetype": "text/x-python",
   "name": "python",
   "nbconvert_exporter": "python",
   "pygments_lexer": "ipython3",
   "version": "3.9.12"
  }
 },
 "nbformat": 4,
 "nbformat_minor": 4
}
