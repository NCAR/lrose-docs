{
 "cells": [
  {
   "cell_type": "code",
   "execution_count": 5,
   "id": "e79fc4fa",
   "metadata": {},
   "outputs": [],
   "source": [
    "import os\n",
    "import sys\n",
    "import datetime\n",
    "import subprocess\n",
    "import string\n",
    "\n",
    "# Run a command in a shell, wait for it to complete\n",
    "\n",
    "def runCommand(cmd):\n",
    "\n",
    "    print(\"running cmd:\",cmd, file=sys.stderr)\n",
    "\n",
    "    try:\n",
    "        retcode = subprocess.call(cmd, shell=True)\n",
    "        if retcode < 0:\n",
    "            print(\"Child was terminated by signal: \", -retcode, file=sys.stderr)\n",
    "    except OSError as e:\n",
    "        print(\"Execution failed:\", e, file=sys.stderr)\n",
    "\n"
   ]
  },
  {
   "cell_type": "code",
   "execution_count": 6,
   "id": "feaf265f",
   "metadata": {},
   "outputs": [
    {
     "name": "stdout",
     "output_type": "stream",
     "text": [
      "PRECIP_radar_scans_userdef_new.ipynb\n",
      "Untitled.ipynb\n",
      "basic_ingest_using_test_radar_object.ipynb\n",
      "changing_fields_and_saving.ipynb\n",
      "config\n",
      "dealiasing_velocity.ipynb\n",
      "differential_phase_proceesing_using_LP_methods.ipynb\n",
      "images\n",
      "mapping_data_to_a_cartesian_grid.ipynb\n",
      "masking_data_with_gatefilters.ipynb\n",
      "migrated\n",
      "pyart-basics.ipynb\n",
      "pyart-gridding.ipynb\n",
      "test_kftg.nc\n",
      "the_pyart_radar_object_and_indexing.ipynb\n"
     ]
    },
    {
     "name": "stderr",
     "output_type": "stream",
     "text": [
      "running cmd: ls\n"
     ]
    }
   ],
   "source": [
    "runCommand('ls')"
   ]
  },
  {
   "cell_type": "code",
   "execution_count": null,
   "id": "78728495",
   "metadata": {},
   "outputs": [],
   "source": []
  }
 ],
 "metadata": {
  "kernelspec": {
   "display_name": "Python 3 (ipykernel)",
   "language": "python",
   "name": "python3"
  },
  "language_info": {
   "codemirror_mode": {
    "name": "ipython",
    "version": 3
   },
   "file_extension": ".py",
   "mimetype": "text/x-python",
   "name": "python",
   "nbconvert_exporter": "python",
   "pygments_lexer": "ipython3",
   "version": "3.9.12"
  }
 },
 "nbformat": 4,
 "nbformat_minor": 5
}
